{
  "nbformat": 4,
  "nbformat_minor": 0,
  "metadata": {
    "colab": {
      "name": "CIFAR10_simclr_representations_colab.ipynb",
      "provenance": [],
      "collapsed_sections": [],
      "machine_shape": "hm"
    },
    "kernelspec": {
      "name": "python383jvsc74a57bd01d90fe6dfe401e4763b30fdc75b2fd8a57730b49ee5f0b21d7a92e0507d9466e",
      "display_name": "Python 3.8.3 64-bit ('base': conda)"
    },
    "widgets": {
      "application/vnd.jupyter.widget-state+json": {
        "f1aea257758d4012b0d3fc9bc419621c": {
          "model_module": "@jupyter-widgets/controls",
          "model_name": "HBoxModel",
          "state": {
            "_view_name": "HBoxView",
            "_dom_classes": [],
            "_model_name": "HBoxModel",
            "_view_module": "@jupyter-widgets/controls",
            "_model_module_version": "1.5.0",
            "_view_count": null,
            "_view_module_version": "1.5.0",
            "box_style": "",
            "layout": "IPY_MODEL_fe034dfdf24e4921a0411bd10380dbd3",
            "_model_module": "@jupyter-widgets/controls",
            "children": [
              "IPY_MODEL_3357038973b04eddbe6e3d778a140d4d",
              "IPY_MODEL_98ae93a03ee4481c900dd18c3d5f0587"
            ]
          }
        },
        "fe034dfdf24e4921a0411bd10380dbd3": {
          "model_module": "@jupyter-widgets/base",
          "model_name": "LayoutModel",
          "state": {
            "_view_name": "LayoutView",
            "grid_template_rows": null,
            "right": null,
            "justify_content": null,
            "_view_module": "@jupyter-widgets/base",
            "overflow": null,
            "_model_module_version": "1.2.0",
            "_view_count": null,
            "flex_flow": null,
            "width": null,
            "min_width": null,
            "border": null,
            "align_items": null,
            "bottom": null,
            "_model_module": "@jupyter-widgets/base",
            "top": null,
            "grid_column": null,
            "overflow_y": null,
            "overflow_x": null,
            "grid_auto_flow": null,
            "grid_area": null,
            "grid_template_columns": null,
            "flex": null,
            "_model_name": "LayoutModel",
            "justify_items": null,
            "grid_row": null,
            "max_height": null,
            "align_content": null,
            "visibility": null,
            "align_self": null,
            "height": null,
            "min_height": null,
            "padding": null,
            "grid_auto_rows": null,
            "grid_gap": null,
            "max_width": null,
            "order": null,
            "_view_module_version": "1.2.0",
            "grid_template_areas": null,
            "object_position": null,
            "object_fit": null,
            "grid_auto_columns": null,
            "margin": null,
            "display": null,
            "left": null
          }
        },
        "3357038973b04eddbe6e3d778a140d4d": {
          "model_module": "@jupyter-widgets/controls",
          "model_name": "FloatProgressModel",
          "state": {
            "_view_name": "ProgressView",
            "style": "IPY_MODEL_ec45a309e0d546388cc9823045c6e22a",
            "_dom_classes": [],
            "description": "100%",
            "_model_name": "FloatProgressModel",
            "bar_style": "success",
            "max": 1000,
            "_view_module": "@jupyter-widgets/controls",
            "_model_module_version": "1.5.0",
            "value": 1000,
            "_view_count": null,
            "_view_module_version": "1.5.0",
            "orientation": "horizontal",
            "min": 0,
            "description_tooltip": null,
            "_model_module": "@jupyter-widgets/controls",
            "layout": "IPY_MODEL_e83f658a79b64df1995f3f90d984b1ef"
          }
        },
        "98ae93a03ee4481c900dd18c3d5f0587": {
          "model_module": "@jupyter-widgets/controls",
          "model_name": "HTMLModel",
          "state": {
            "_view_name": "HTMLView",
            "style": "IPY_MODEL_13258c82a920498a971a5587a3400586",
            "_dom_classes": [],
            "description": "",
            "_model_name": "HTMLModel",
            "placeholder": "​",
            "_view_module": "@jupyter-widgets/controls",
            "_model_module_version": "1.5.0",
            "value": " 1000/1000 [1:14:17&lt;00:00,  4.46s/it]",
            "_view_count": null,
            "_view_module_version": "1.5.0",
            "description_tooltip": null,
            "_model_module": "@jupyter-widgets/controls",
            "layout": "IPY_MODEL_08e7652c53204a1cb14e907f3d8b3200"
          }
        },
        "ec45a309e0d546388cc9823045c6e22a": {
          "model_module": "@jupyter-widgets/controls",
          "model_name": "ProgressStyleModel",
          "state": {
            "_view_name": "StyleView",
            "_model_name": "ProgressStyleModel",
            "description_width": "initial",
            "_view_module": "@jupyter-widgets/base",
            "_model_module_version": "1.5.0",
            "_view_count": null,
            "_view_module_version": "1.2.0",
            "bar_color": null,
            "_model_module": "@jupyter-widgets/controls"
          }
        },
        "e83f658a79b64df1995f3f90d984b1ef": {
          "model_module": "@jupyter-widgets/base",
          "model_name": "LayoutModel",
          "state": {
            "_view_name": "LayoutView",
            "grid_template_rows": null,
            "right": null,
            "justify_content": null,
            "_view_module": "@jupyter-widgets/base",
            "overflow": null,
            "_model_module_version": "1.2.0",
            "_view_count": null,
            "flex_flow": null,
            "width": null,
            "min_width": null,
            "border": null,
            "align_items": null,
            "bottom": null,
            "_model_module": "@jupyter-widgets/base",
            "top": null,
            "grid_column": null,
            "overflow_y": null,
            "overflow_x": null,
            "grid_auto_flow": null,
            "grid_area": null,
            "grid_template_columns": null,
            "flex": null,
            "_model_name": "LayoutModel",
            "justify_items": null,
            "grid_row": null,
            "max_height": null,
            "align_content": null,
            "visibility": null,
            "align_self": null,
            "height": null,
            "min_height": null,
            "padding": null,
            "grid_auto_rows": null,
            "grid_gap": null,
            "max_width": null,
            "order": null,
            "_view_module_version": "1.2.0",
            "grid_template_areas": null,
            "object_position": null,
            "object_fit": null,
            "grid_auto_columns": null,
            "margin": null,
            "display": null,
            "left": null
          }
        },
        "13258c82a920498a971a5587a3400586": {
          "model_module": "@jupyter-widgets/controls",
          "model_name": "DescriptionStyleModel",
          "state": {
            "_view_name": "StyleView",
            "_model_name": "DescriptionStyleModel",
            "description_width": "",
            "_view_module": "@jupyter-widgets/base",
            "_model_module_version": "1.5.0",
            "_view_count": null,
            "_view_module_version": "1.2.0",
            "_model_module": "@jupyter-widgets/controls"
          }
        },
        "08e7652c53204a1cb14e907f3d8b3200": {
          "model_module": "@jupyter-widgets/base",
          "model_name": "LayoutModel",
          "state": {
            "_view_name": "LayoutView",
            "grid_template_rows": null,
            "right": null,
            "justify_content": null,
            "_view_module": "@jupyter-widgets/base",
            "overflow": null,
            "_model_module_version": "1.2.0",
            "_view_count": null,
            "flex_flow": null,
            "width": null,
            "min_width": null,
            "border": null,
            "align_items": null,
            "bottom": null,
            "_model_module": "@jupyter-widgets/base",
            "top": null,
            "grid_column": null,
            "overflow_y": null,
            "overflow_x": null,
            "grid_auto_flow": null,
            "grid_area": null,
            "grid_template_columns": null,
            "flex": null,
            "_model_name": "LayoutModel",
            "justify_items": null,
            "grid_row": null,
            "max_height": null,
            "align_content": null,
            "visibility": null,
            "align_self": null,
            "height": null,
            "min_height": null,
            "padding": null,
            "grid_auto_rows": null,
            "grid_gap": null,
            "max_width": null,
            "order": null,
            "_view_module_version": "1.2.0",
            "grid_template_areas": null,
            "object_position": null,
            "object_fit": null,
            "grid_auto_columns": null,
            "margin": null,
            "display": null,
            "left": null
          }
        }
      }
    },
    "accelerator": "GPU"
  },
  "cells": [
    {
      "cell_type": "markdown",
      "metadata": {
        "id": "orSFWWnhXJnW"
      },
      "source": [
        "# SIMclr Representation Generation"
      ]
    },
    {
      "cell_type": "code",
      "metadata": {
        "id": "l903FPCCqW3T",
        "colab": {
          "base_uri": "https://localhost:8080/"
        },
        "outputId": "053a9285-c65e-45b2-b157-525d39ece7bc"
      },
      "source": [
        "import torch\n",
        "from torch import optim, nn\n",
        "import torchvision\n",
        "from torchvision.datasets import FashionMNIST\n",
        "from torch.utils.data import DataLoader\n",
        "\n",
        "from resnet_wider import resnet50x1\n",
        "from oc_svm_k9de import K9_OCSVM\n",
        "\n",
        "from tqdm.autonotebook import tqdm\n",
        "import matplotlib.pyplot as plt\n",
        "import gc\n",
        "import numpy as np\n",
        "import time as tm\n",
        "import os\n",
        "working_dir = os.getcwd()"
      ],
      "execution_count": null,
      "outputs": []
    },
    {
      "cell_type": "markdown",
      "metadata": {
        "id": "rleFIJoxxS-m"
      },
      "source": [
        "## Load pre-trained net weights and data"
      ]
    },
    {
      "cell_type": "code",
      "metadata": {
        "id": "5L-b9uL1tykN",
        "colab": {
          "base_uri": "https://localhost:8080/"
        },
        "outputId": "546b77f3-3df9-4161-f1f0-339b4c300f13"
      },
      "source": [
        "# Create transformations and dataset\n",
        "normalize = torchvision.transforms.Normalize((0.485, 0.456, 0.406), (0.229, 0.224, 0.225))\n",
        "transform = torchvision.transforms.Compose([torchvision.transforms.Resize(256),\n",
        "                        torchvision.transforms.CenterCrop(224),\n",
        "                        torchvision.transforms.ToTensor()])\n",
        "\n",
        "cifar10_train = torchvision.datasets.CIFAR10(\".\", train=True, download=True, transform=transform)\n",
        "cifar10_test = torchvision.datasets.CIFAR10(\".\", train=False, download=True, transform=transform)\n"
      ],
      "execution_count": null,
      "outputs": []
    },
    {
      "cell_type": "code",
      "metadata": {
        "id": "B5hGetzHxaQc"
      },
      "source": [
        "weights_file = os.path.join(working_dir,'resnet50-1x.pth')\n",
        "weights = torch.load(weights_file) \n",
        "\n",
        "model = resnet50x1()\n",
        "model.load_state_dict(weights[\"state_dict\"])\n",
        "\n",
        "model.eval()\n",
        "print(model)\n",
        "\n",
        "# Initialise feature extractor model, set to eval mode and send to device\n",
        "device = \"cuda:0\"\n",
        "feature_extractor_model = nn.Sequential(*list(model.children())[:-2], nn.AdaptiveAvgPool2d((1,1)))\n",
        "feature_extractor_model.eval()\n",
        "feature_extractor_model = feature_extractor_model.to(device)\n",
        "\n",
        "# Create DataLoaders\n",
        "batch_sz = 50\n",
        "train_loader_cifar = DataLoader(cifar10_train, batch_size=batch_sz)\n",
        "test_loader_cifar = DataLoader(cifar10_test, batch_size=batch_sz, shuffle=True)"
      ],
      "execution_count": null,
      "outputs": []
    },
    {
      "cell_type": "markdown",
      "metadata": {
        "id": "FbnnMK1kk-lB"
      },
      "source": [
        "### Representation Extraction"
      ]
    },
    {
      "cell_type": "code",
      "metadata": {
        "id": "XARrthS1g1Qh"
      },
      "source": [
        "def extract_representations_cifar(extractor_model, dataloader, num_samples, vec_size=2048):\n",
        "  repr_vectors = np.zeros((num_samples, vec_size))\n",
        "  repr_labels = np.zeros((num_samples,1))\n",
        "\n",
        "  for i, data in enumerate(tqdm(dataloader,0)):\n",
        "    images, labels = data\n",
        "    images = normalize(images)\n",
        "    images = images.cuda()\n",
        "    temp_out = extractor_model(images)\n",
        "    \n",
        "    temp_out = temp_out[:,:,0,0].detach().cpu().numpy()\n",
        "    repr_vectors[i*batch_sz:i*batch_sz + batch_sz,:] = temp_out \n",
        "\n",
        "    temp_out_lbl = np.expand_dims(labels.numpy(),1)\n",
        "    repr_labels[i*batch_sz:i*batch_sz + batch_sz,:] = temp_out_lbl\n",
        "\n",
        "  return repr_vectors, repr_labels"
      ],
      "execution_count": null,
      "outputs": []
    },
    {
      "cell_type": "code",
      "metadata": {
        "id": "c8n02mzykfFf"
      },
      "source": [
        "# Extract\n",
        "cifar10_repr_train, cifar10_repr_train_lbl = extract_representations_cifar(feature_extractor_model, train_loader_cifar, len(cifar10_train))\n",
        "cifar10_repr_test, cifar10_repr_test_labels = extract_representations_cifar(feature_extractor_model, test_loader_cifar, len(cifar10_test))\n",
        "\n",
        "# And save\n",
        "simclr_cifar_train_path = working_dir + \"/cifar10_simcplr_repr_train.npy\"\n",
        "simclr_cifar_train_labels_path = working_dir + \"/cifar10_simcplr_repr_train_lbl.npy\"\n",
        "simclr_cifar_tst_path = working_dir + \"/cifar10_simcplr_repr_test.npy\"\n",
        "simclr_cifar_tst_labels_path = working_dir + \"/cifar10_simcplr_repr_test_lbl.npy\"\n",
        "\n",
        "np.save(simclr_cifar_train_path, cifar10_repr_train)\n",
        "np.save(simclr_cifar_train_labels_path, cifar10_repr_train_lbl)\n",
        "np.save(simclr_cifar_tst_path, cifar10_repr_test)\n",
        "np.save(simclr_cifar_tst_labels_path, cifar10_repr_test_labels)"
      ],
      "execution_count": null,
      "outputs": []
    },
    {
      "cell_type": "code",
      "metadata": {
        "colab": {
          "base_uri": "https://localhost:8080/"
        },
        "id": "gXDEJC1vK5A_",
        "outputId": "4f65ae16-150c-4be7-84ea-9fd629afea4f"
      },
      "source": [
        "# Run OC-SVM\n",
        "simclr_aucs = K9_OCSVM(cifar10_repr_train, np.squeeze(cifar10_repr_train_lbl), cifar10_repr_test, np.squeeze(cifar10_repr_test_labels), kernel_type=\"rbf\")"
      ],
      "execution_count": null,
      "outputs": []
    }
  ]
}