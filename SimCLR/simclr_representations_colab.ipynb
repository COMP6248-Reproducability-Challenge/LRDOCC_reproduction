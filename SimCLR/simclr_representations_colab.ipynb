{
  "nbformat": 4,
  "nbformat_minor": 0,
  "metadata": {
    "colab": {
      "name": "simclr_representations_colab.ipynb",
      "provenance": [],
      "collapsed_sections": [],
      "machine_shape": "hm"
    },
    "kernelspec": {
      "name": "python383jvsc74a57bd01d90fe6dfe401e4763b30fdc75b2fd8a57730b49ee5f0b21d7a92e0507d9466e",
      "display_name": "Python 3.8.3 64-bit ('base': conda)"
    },
    "widgets": {
      "application/vnd.jupyter.widget-state+json": {
        "c9362c64d44a48dd8c4274736810fe52": {
          "model_module": "@jupyter-widgets/controls",
          "model_name": "HBoxModel",
          "state": {
            "_view_name": "HBoxView",
            "_dom_classes": [],
            "_model_name": "HBoxModel",
            "_view_module": "@jupyter-widgets/controls",
            "_model_module_version": "1.5.0",
            "_view_count": null,
            "_view_module_version": "1.5.0",
            "box_style": "",
            "layout": "IPY_MODEL_0d62ed46d65a429aadfb792252110e04",
            "_model_module": "@jupyter-widgets/controls",
            "children": [
              "IPY_MODEL_ab70606ef45d43249cccd5c0232fdc5e",
              "IPY_MODEL_536d79bc8626440d917c637b97eb9652"
            ]
          }
        },
        "0d62ed46d65a429aadfb792252110e04": {
          "model_module": "@jupyter-widgets/base",
          "model_name": "LayoutModel",
          "state": {
            "_view_name": "LayoutView",
            "grid_template_rows": null,
            "right": null,
            "justify_content": null,
            "_view_module": "@jupyter-widgets/base",
            "overflow": null,
            "_model_module_version": "1.2.0",
            "_view_count": null,
            "flex_flow": null,
            "width": null,
            "min_width": null,
            "border": null,
            "align_items": null,
            "bottom": null,
            "_model_module": "@jupyter-widgets/base",
            "top": null,
            "grid_column": null,
            "overflow_y": null,
            "overflow_x": null,
            "grid_auto_flow": null,
            "grid_area": null,
            "grid_template_columns": null,
            "flex": null,
            "_model_name": "LayoutModel",
            "justify_items": null,
            "grid_row": null,
            "max_height": null,
            "align_content": null,
            "visibility": null,
            "align_self": null,
            "height": null,
            "min_height": null,
            "padding": null,
            "grid_auto_rows": null,
            "grid_gap": null,
            "max_width": null,
            "order": null,
            "_view_module_version": "1.2.0",
            "grid_template_areas": null,
            "object_position": null,
            "object_fit": null,
            "grid_auto_columns": null,
            "margin": null,
            "display": null,
            "left": null
          }
        },
        "ab70606ef45d43249cccd5c0232fdc5e": {
          "model_module": "@jupyter-widgets/controls",
          "model_name": "FloatProgressModel",
          "state": {
            "_view_name": "ProgressView",
            "style": "IPY_MODEL_c2eeaa7cd3d34b77a3957e48dff32494",
            "_dom_classes": [],
            "description": "100%",
            "_model_name": "FloatProgressModel",
            "bar_style": "success",
            "max": 469,
            "_view_module": "@jupyter-widgets/controls",
            "_model_module_version": "1.5.0",
            "value": 469,
            "_view_count": null,
            "_view_module_version": "1.5.0",
            "orientation": "horizontal",
            "min": 0,
            "description_tooltip": null,
            "_model_module": "@jupyter-widgets/controls",
            "layout": "IPY_MODEL_b8b775df77f140d8ba339533d44eaf05"
          }
        },
        "536d79bc8626440d917c637b97eb9652": {
          "model_module": "@jupyter-widgets/controls",
          "model_name": "HTMLModel",
          "state": {
            "_view_name": "HTMLView",
            "style": "IPY_MODEL_5eb60c190e0c4ba1bf3f5da3d74e818d",
            "_dom_classes": [],
            "description": "",
            "_model_name": "HTMLModel",
            "placeholder": "​",
            "_view_module": "@jupyter-widgets/controls",
            "_model_module_version": "1.5.0",
            "value": " 469/469 [02:08&lt;00:00,  3.64it/s]",
            "_view_count": null,
            "_view_module_version": "1.5.0",
            "description_tooltip": null,
            "_model_module": "@jupyter-widgets/controls",
            "layout": "IPY_MODEL_846f43e2e5c246c3a726e4c33c03d41d"
          }
        },
        "c2eeaa7cd3d34b77a3957e48dff32494": {
          "model_module": "@jupyter-widgets/controls",
          "model_name": "ProgressStyleModel",
          "state": {
            "_view_name": "StyleView",
            "_model_name": "ProgressStyleModel",
            "description_width": "initial",
            "_view_module": "@jupyter-widgets/base",
            "_model_module_version": "1.5.0",
            "_view_count": null,
            "_view_module_version": "1.2.0",
            "bar_color": null,
            "_model_module": "@jupyter-widgets/controls"
          }
        },
        "b8b775df77f140d8ba339533d44eaf05": {
          "model_module": "@jupyter-widgets/base",
          "model_name": "LayoutModel",
          "state": {
            "_view_name": "LayoutView",
            "grid_template_rows": null,
            "right": null,
            "justify_content": null,
            "_view_module": "@jupyter-widgets/base",
            "overflow": null,
            "_model_module_version": "1.2.0",
            "_view_count": null,
            "flex_flow": null,
            "width": null,
            "min_width": null,
            "border": null,
            "align_items": null,
            "bottom": null,
            "_model_module": "@jupyter-widgets/base",
            "top": null,
            "grid_column": null,
            "overflow_y": null,
            "overflow_x": null,
            "grid_auto_flow": null,
            "grid_area": null,
            "grid_template_columns": null,
            "flex": null,
            "_model_name": "LayoutModel",
            "justify_items": null,
            "grid_row": null,
            "max_height": null,
            "align_content": null,
            "visibility": null,
            "align_self": null,
            "height": null,
            "min_height": null,
            "padding": null,
            "grid_auto_rows": null,
            "grid_gap": null,
            "max_width": null,
            "order": null,
            "_view_module_version": "1.2.0",
            "grid_template_areas": null,
            "object_position": null,
            "object_fit": null,
            "grid_auto_columns": null,
            "margin": null,
            "display": null,
            "left": null
          }
        },
        "5eb60c190e0c4ba1bf3f5da3d74e818d": {
          "model_module": "@jupyter-widgets/controls",
          "model_name": "DescriptionStyleModel",
          "state": {
            "_view_name": "StyleView",
            "_model_name": "DescriptionStyleModel",
            "description_width": "",
            "_view_module": "@jupyter-widgets/base",
            "_model_module_version": "1.5.0",
            "_view_count": null,
            "_view_module_version": "1.2.0",
            "_model_module": "@jupyter-widgets/controls"
          }
        },
        "846f43e2e5c246c3a726e4c33c03d41d": {
          "model_module": "@jupyter-widgets/base",
          "model_name": "LayoutModel",
          "state": {
            "_view_name": "LayoutView",
            "grid_template_rows": null,
            "right": null,
            "justify_content": null,
            "_view_module": "@jupyter-widgets/base",
            "overflow": null,
            "_model_module_version": "1.2.0",
            "_view_count": null,
            "flex_flow": null,
            "width": null,
            "min_width": null,
            "border": null,
            "align_items": null,
            "bottom": null,
            "_model_module": "@jupyter-widgets/base",
            "top": null,
            "grid_column": null,
            "overflow_y": null,
            "overflow_x": null,
            "grid_auto_flow": null,
            "grid_area": null,
            "grid_template_columns": null,
            "flex": null,
            "_model_name": "LayoutModel",
            "justify_items": null,
            "grid_row": null,
            "max_height": null,
            "align_content": null,
            "visibility": null,
            "align_self": null,
            "height": null,
            "min_height": null,
            "padding": null,
            "grid_auto_rows": null,
            "grid_gap": null,
            "max_width": null,
            "order": null,
            "_view_module_version": "1.2.0",
            "grid_template_areas": null,
            "object_position": null,
            "object_fit": null,
            "grid_auto_columns": null,
            "margin": null,
            "display": null,
            "left": null
          }
        },
        "de8e70b7c2614b8faab6b4834ccba9ae": {
          "model_module": "@jupyter-widgets/controls",
          "model_name": "HBoxModel",
          "state": {
            "_view_name": "HBoxView",
            "_dom_classes": [],
            "_model_name": "HBoxModel",
            "_view_module": "@jupyter-widgets/controls",
            "_model_module_version": "1.5.0",
            "_view_count": null,
            "_view_module_version": "1.5.0",
            "box_style": "",
            "layout": "IPY_MODEL_8ae8de527ba24cd8a26a0a6b2a97dc12",
            "_model_module": "@jupyter-widgets/controls",
            "children": [
              "IPY_MODEL_2e62b2f4e5644af0b10dd92fbcec3145",
              "IPY_MODEL_047a215097fe4567aa428d3fae10b0a3"
            ]
          }
        },
        "8ae8de527ba24cd8a26a0a6b2a97dc12": {
          "model_module": "@jupyter-widgets/base",
          "model_name": "LayoutModel",
          "state": {
            "_view_name": "LayoutView",
            "grid_template_rows": null,
            "right": null,
            "justify_content": null,
            "_view_module": "@jupyter-widgets/base",
            "overflow": null,
            "_model_module_version": "1.2.0",
            "_view_count": null,
            "flex_flow": null,
            "width": null,
            "min_width": null,
            "border": null,
            "align_items": null,
            "bottom": null,
            "_model_module": "@jupyter-widgets/base",
            "top": null,
            "grid_column": null,
            "overflow_y": null,
            "overflow_x": null,
            "grid_auto_flow": null,
            "grid_area": null,
            "grid_template_columns": null,
            "flex": null,
            "_model_name": "LayoutModel",
            "justify_items": null,
            "grid_row": null,
            "max_height": null,
            "align_content": null,
            "visibility": null,
            "align_self": null,
            "height": null,
            "min_height": null,
            "padding": null,
            "grid_auto_rows": null,
            "grid_gap": null,
            "max_width": null,
            "order": null,
            "_view_module_version": "1.2.0",
            "grid_template_areas": null,
            "object_position": null,
            "object_fit": null,
            "grid_auto_columns": null,
            "margin": null,
            "display": null,
            "left": null
          }
        },
        "2e62b2f4e5644af0b10dd92fbcec3145": {
          "model_module": "@jupyter-widgets/controls",
          "model_name": "FloatProgressModel",
          "state": {
            "_view_name": "ProgressView",
            "style": "IPY_MODEL_cecbdb46da994664b7811c1eb14bd08a",
            "_dom_classes": [],
            "description": "100%",
            "_model_name": "FloatProgressModel",
            "bar_style": "success",
            "max": 79,
            "_view_module": "@jupyter-widgets/controls",
            "_model_module_version": "1.5.0",
            "value": 79,
            "_view_count": null,
            "_view_module_version": "1.5.0",
            "orientation": "horizontal",
            "min": 0,
            "description_tooltip": null,
            "_model_module": "@jupyter-widgets/controls",
            "layout": "IPY_MODEL_aab32e2f049a4aecbe7fe7ac7a6be714"
          }
        },
        "047a215097fe4567aa428d3fae10b0a3": {
          "model_module": "@jupyter-widgets/controls",
          "model_name": "HTMLModel",
          "state": {
            "_view_name": "HTMLView",
            "style": "IPY_MODEL_e132f4fde74f405f8af61e75ac0add04",
            "_dom_classes": [],
            "description": "",
            "_model_name": "HTMLModel",
            "placeholder": "​",
            "_view_module": "@jupyter-widgets/controls",
            "_model_module_version": "1.5.0",
            "value": " 79/79 [00:21&lt;00:00,  3.65it/s]",
            "_view_count": null,
            "_view_module_version": "1.5.0",
            "description_tooltip": null,
            "_model_module": "@jupyter-widgets/controls",
            "layout": "IPY_MODEL_35d09d27e23a440ba694c7fefe6c3519"
          }
        },
        "cecbdb46da994664b7811c1eb14bd08a": {
          "model_module": "@jupyter-widgets/controls",
          "model_name": "ProgressStyleModel",
          "state": {
            "_view_name": "StyleView",
            "_model_name": "ProgressStyleModel",
            "description_width": "initial",
            "_view_module": "@jupyter-widgets/base",
            "_model_module_version": "1.5.0",
            "_view_count": null,
            "_view_module_version": "1.2.0",
            "bar_color": null,
            "_model_module": "@jupyter-widgets/controls"
          }
        },
        "aab32e2f049a4aecbe7fe7ac7a6be714": {
          "model_module": "@jupyter-widgets/base",
          "model_name": "LayoutModel",
          "state": {
            "_view_name": "LayoutView",
            "grid_template_rows": null,
            "right": null,
            "justify_content": null,
            "_view_module": "@jupyter-widgets/base",
            "overflow": null,
            "_model_module_version": "1.2.0",
            "_view_count": null,
            "flex_flow": null,
            "width": null,
            "min_width": null,
            "border": null,
            "align_items": null,
            "bottom": null,
            "_model_module": "@jupyter-widgets/base",
            "top": null,
            "grid_column": null,
            "overflow_y": null,
            "overflow_x": null,
            "grid_auto_flow": null,
            "grid_area": null,
            "grid_template_columns": null,
            "flex": null,
            "_model_name": "LayoutModel",
            "justify_items": null,
            "grid_row": null,
            "max_height": null,
            "align_content": null,
            "visibility": null,
            "align_self": null,
            "height": null,
            "min_height": null,
            "padding": null,
            "grid_auto_rows": null,
            "grid_gap": null,
            "max_width": null,
            "order": null,
            "_view_module_version": "1.2.0",
            "grid_template_areas": null,
            "object_position": null,
            "object_fit": null,
            "grid_auto_columns": null,
            "margin": null,
            "display": null,
            "left": null
          }
        },
        "e132f4fde74f405f8af61e75ac0add04": {
          "model_module": "@jupyter-widgets/controls",
          "model_name": "DescriptionStyleModel",
          "state": {
            "_view_name": "StyleView",
            "_model_name": "DescriptionStyleModel",
            "description_width": "",
            "_view_module": "@jupyter-widgets/base",
            "_model_module_version": "1.5.0",
            "_view_count": null,
            "_view_module_version": "1.2.0",
            "_model_module": "@jupyter-widgets/controls"
          }
        },
        "35d09d27e23a440ba694c7fefe6c3519": {
          "model_module": "@jupyter-widgets/base",
          "model_name": "LayoutModel",
          "state": {
            "_view_name": "LayoutView",
            "grid_template_rows": null,
            "right": null,
            "justify_content": null,
            "_view_module": "@jupyter-widgets/base",
            "overflow": null,
            "_model_module_version": "1.2.0",
            "_view_count": null,
            "flex_flow": null,
            "width": null,
            "min_width": null,
            "border": null,
            "align_items": null,
            "bottom": null,
            "_model_module": "@jupyter-widgets/base",
            "top": null,
            "grid_column": null,
            "overflow_y": null,
            "overflow_x": null,
            "grid_auto_flow": null,
            "grid_area": null,
            "grid_template_columns": null,
            "flex": null,
            "_model_name": "LayoutModel",
            "justify_items": null,
            "grid_row": null,
            "max_height": null,
            "align_content": null,
            "visibility": null,
            "align_self": null,
            "height": null,
            "min_height": null,
            "padding": null,
            "grid_auto_rows": null,
            "grid_gap": null,
            "max_width": null,
            "order": null,
            "_view_module_version": "1.2.0",
            "grid_template_areas": null,
            "object_position": null,
            "object_fit": null,
            "grid_auto_columns": null,
            "margin": null,
            "display": null,
            "left": null
          }
        }
      }
    },
    "accelerator": "GPU"
  },
  "cells": [
    {
      "cell_type": "markdown",
      "metadata": {
        "id": "orSFWWnhXJnW"
      },
      "source": [
        "# SIMclr Representation Generation"
      ]
    },
    {
      "cell_type": "code",
      "metadata": {
        "id": "l903FPCCqW3T",
        "colab": {
          "base_uri": "https://localhost:8080/"
        },
        "outputId": "1e94fb48-5b49-4128-9a23-a147087116db"
      },
      "source": [
        "import torch\n",
        "from torch import optim, nn\n",
        "import torchvision\n",
        "from torchvision.datasets import FashionMNIST\n",
        "from torch.utils.data import DataLoader\n",
        "\n",
        "from resnet_wider import resnet50x1\n",
        "from oc_svm_k9de import K9_OCSVM\n",
        "\n",
        "from tqdm.autonotebook import tqdm\n",
        "import matplotlib.pyplot as plt\n",
        "import gc\n",
        "import numpy as np\n",
        "import time as tm\n",
        "import os\n",
        "working_dir = os.getcwd()"
      ],
      "execution_count": null,
      "outputs": []
    },
    {
      "cell_type": "markdown",
      "metadata": {
        "id": "rleFIJoxxS-m"
      },
      "source": [
        "### Load weights and create DataLoaders"
      ]
    },
    {
      "cell_type": "code",
      "metadata": {
        "id": "5L-b9uL1tykN"
      },
      "source": [
        "normalize = torchvision.transforms.Normalize((0.485, 0.456, 0.406), (0.229, 0.224, 0.225))\n",
        "\n",
        "# Create transformations and dataset\n",
        "transform = torchvision.transforms.Compose([torchvision.transforms.Resize(256),\n",
        "                        torchvision.transforms.CenterCrop(224),\n",
        "                        torchvision.transforms.ToTensor()])\n",
        "\n",
        "f_mnist_data = FashionMNIST(\".\", train=True, download=True, transform=transform)\n",
        "f_mnist_data_test = FashionMNIST(\".\", train=False, download=True, transform=transform)"
      ],
      "execution_count": null,
      "outputs": []
    },
    {
      "cell_type": "code",
      "metadata": {
        "id": "B5hGetzHxaQc"
      },
      "source": [
        "weights_file = os.path.join(working_dir,\"resnet50-1x.pth\")\n",
        "weights = torch.load(weights_file) # , map_location=\"cpu\" \n",
        "\n",
        "model = resnet50x1()\n",
        "model.load_state_dict(weights[\"state_dict\"])\n",
        "\n",
        "model.eval()\n",
        "print(model)\n",
        "\n",
        "# Initialise feature extractor model, set to eval mode and send to device\n",
        "device = \"cuda:0\"\n",
        "feature_extractor_model = nn.Sequential(*list(model.children())[:-2], nn.AdaptiveAvgPool2d((1,1)))\n",
        "feature_extractor_model.eval()\n",
        "feature_extractor_model = feature_extractor_model.to(device)\n",
        "\n",
        "# Create DataLoaders\n",
        "batch_sz = 128\n",
        "train_loader = DataLoader(f_mnist_data, batch_size=batch_sz)\n",
        "test_loader = DataLoader(f_mnist_data_test, batch_size=batch_sz, shuffle=True)"
      ],
      "execution_count": null,
      "outputs": []
    },
    {
      "cell_type": "markdown",
      "metadata": {
        "id": "PRviwA4Vg0gs"
      },
      "source": [
        "### SimCLR representation exctractor function"
      ]
    },
    {
      "cell_type": "code",
      "metadata": {
        "id": "y67hAUc3MQjg"
      },
      "source": [
        "def extract_representations_simclr(extractor_model, data_sz,  dataloader, batch_size, interleave3d=False, vec_size=2048):\n",
        "    \"\"\"\n",
        "      Extract representations based on the process described on LRDOCC paper.\n",
        "    \"\"\"\n",
        "\n",
        "    SINCE = tm.time()\n",
        "\n",
        "    feature_tensor = np.zeros((data_sz, vec_size))\n",
        "    label_tensor = np.zeros((data_sz,1))\n",
        "    \n",
        "    for i, data in enumerate(tqdm(dataloader,0)):\n",
        "        images, labels = data\n",
        "        if interleave3d==True:\n",
        "            images = images.repeat_interleave(3, dim=1)\n",
        "        images = normalize(images)\n",
        "        images = images.cuda()\n",
        "        \n",
        "        temp_out_tensor = extractor_model(images)\n",
        "\n",
        "        temp_out_tensor = temp_out_tensor[:,:,0,0].detach().cpu().numpy()\n",
        "        feature_tensor[i*batch_size:i*batch_size + batch_size,:] = temp_out_tensor\n",
        "\n",
        "        temp_out_label = np.expand_dims(labels.numpy(),1)\n",
        "        label_tensor[i*batch_size:i*batch_size + batch_size,:] = temp_out_label\n",
        "\n",
        "        gc.collect()\n",
        "    ELAPSED = tm.time() - SINCE\n",
        "    print('Feature extraction complete in {:.0f}m {:.0f}s'.format(ELAPSED // 60, ELAPSED % 60))\n",
        "\n",
        "    return feature_tensor, label_tensor"
      ],
      "execution_count": null,
      "outputs": []
    },
    {
      "cell_type": "code",
      "metadata": {
        "colab": {
          "base_uri": "https://localhost:8080/",
          "height": 154,
          "referenced_widgets": [
            "c9362c64d44a48dd8c4274736810fe52",
            "0d62ed46d65a429aadfb792252110e04",
            "ab70606ef45d43249cccd5c0232fdc5e",
            "536d79bc8626440d917c637b97eb9652",
            "c2eeaa7cd3d34b77a3957e48dff32494",
            "b8b775df77f140d8ba339533d44eaf05",
            "5eb60c190e0c4ba1bf3f5da3d74e818d",
            "846f43e2e5c246c3a726e4c33c03d41d",
            "de8e70b7c2614b8faab6b4834ccba9ae",
            "8ae8de527ba24cd8a26a0a6b2a97dc12",
            "2e62b2f4e5644af0b10dd92fbcec3145",
            "047a215097fe4567aa428d3fae10b0a3",
            "cecbdb46da994664b7811c1eb14bd08a",
            "aab32e2f049a4aecbe7fe7ac7a6be714",
            "e132f4fde74f405f8af61e75ac0add04",
            "35d09d27e23a440ba694c7fefe6c3519"
          ]
        },
        "id": "4xMIQZ8lWSk0",
        "outputId": "bc20a993-8f8f-48bb-ab46-32f8d4647f75"
      },
      "source": [
        "simclr_fmnist_train, simclr_fmnist_train_lbl = extract_representations_simclr(feature_extractor_model, len(f_mnist_data), train_loader, batch_sz, True)\n",
        "simclr_fmnist_test, simclr_fmnist_test_lbl = extract_representations_simclr(feature_extractor_model, len(f_mnist_data_test), test_loader, batch_sz, True)"
      ],
      "execution_count": null,
      "outputs": []
    },
    {
      "cell_type": "code",
      "metadata": {
        "id": "ceXn3xzFit9m"
      },
      "source": [
        "simclr_dataset_path_train = working_dir + \"/simcplr_repr_fmnist.npy\"\n",
        "simclr_labels_path_train_lbl = working_dir + \"/simclr_labels_fmnist.npy\"\n",
        "simclr_dataset_path_test = working_dir + \"/simcplr_repr_fmnist_test.npy\"\n",
        "simclr_labels_path_test_labels = working_dir + \"/simclr_labels_fmnist_test_lbl.npy\"\n",
        "\n",
        "\n",
        "np.save(simclr_dataset_path_train, simclr_fmnist_train)\n",
        "np.save(simclr_labels_path_train_lbl, simclr_fmnist_train_lbl)\n",
        "np.save(simclr_dataset_path_test, simclr_fmnist_test)\n",
        "np.save(simclr_labels_path_test_labels, simclr_fmnist_test_lbl)"
      ],
      "execution_count": null,
      "outputs": []
    },
    {
      "source": [
        "### Run OC-SVM"
      ],
      "cell_type": "markdown",
      "metadata": {
        "id": "RcIcz45TFiiQ"
      }
    },
    {
      "cell_type": "code",
      "metadata": {
        "colab": {
          "base_uri": "https://localhost:8080/"
        },
        "id": "gXDEJC1vK5A_",
        "outputId": "9e5ac56c-5f3d-4c02-ac8a-a4e26accc09a"
      },
      "source": [
        "# Run OC-SVM\n",
        "simclr_aucs = K9_OCSVM(simclr_fmnist_train, np.squeeze(simclr_fmnist_train_lbl), simclr_fmnist_test, np.squeeze(simclr_fmnist_test_lbl), kernel_type=\"rbf\")"
      ],
      "execution_count": null,
      "outputs": []
    }
  ]
}