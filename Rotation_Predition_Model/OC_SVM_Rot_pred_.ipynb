{
  "nbformat": 4,
  "nbformat_minor": 0,
  "metadata": {
    "colab": {
      "name": "OC_SVM_Rot_pred",
      "provenance": [],
      "machine_shape": "hm"
    },
    "kernelspec": {
      "name": "python383jvsc74a57bd01d90fe6dfe401e4763b30fdc75b2fd8a57730b49ee5f0b21d7a92e0507d9466e",
      "display_name": "Python 3.8.3 64-bit ('base': conda)"
    },
    "language_info": {
      "name": "python",
      "version": "3.8.3"
    },
    "accelerator": "GPU",
    "widgets": {
      "application/vnd.jupyter.widget-state+json": {
        "be77eef09ae842f09f9feaab996456ab": {
          "model_module": "@jupyter-widgets/controls",
          "model_name": "HBoxModel",
          "state": {
            "_view_name": "HBoxView",
            "_dom_classes": [],
            "_model_name": "HBoxModel",
            "_view_module": "@jupyter-widgets/controls",
            "_model_module_version": "1.5.0",
            "_view_count": null,
            "_view_module_version": "1.5.0",
            "box_style": "",
            "layout": "IPY_MODEL_0b3e52861aca4b1985f777a174fff2fc",
            "_model_module": "@jupyter-widgets/controls",
            "children": [
              "IPY_MODEL_c5b9ebf12ca74df2b900cf543ee44c2e",
              "IPY_MODEL_29d199499795474f8323bbd455d53b58"
            ]
          }
        },
        "0b3e52861aca4b1985f777a174fff2fc": {
          "model_module": "@jupyter-widgets/base",
          "model_name": "LayoutModel",
          "state": {
            "_view_name": "LayoutView",
            "grid_template_rows": null,
            "right": null,
            "justify_content": null,
            "_view_module": "@jupyter-widgets/base",
            "overflow": null,
            "_model_module_version": "1.2.0",
            "_view_count": null,
            "flex_flow": null,
            "width": null,
            "min_width": null,
            "border": null,
            "align_items": null,
            "bottom": null,
            "_model_module": "@jupyter-widgets/base",
            "top": null,
            "grid_column": null,
            "overflow_y": null,
            "overflow_x": null,
            "grid_auto_flow": null,
            "grid_area": null,
            "grid_template_columns": null,
            "flex": null,
            "_model_name": "LayoutModel",
            "justify_items": null,
            "grid_row": null,
            "max_height": null,
            "align_content": null,
            "visibility": null,
            "align_self": null,
            "height": null,
            "min_height": null,
            "padding": null,
            "grid_auto_rows": null,
            "grid_gap": null,
            "max_width": null,
            "order": null,
            "_view_module_version": "1.2.0",
            "grid_template_areas": null,
            "object_position": null,
            "object_fit": null,
            "grid_auto_columns": null,
            "margin": null,
            "display": null,
            "left": null
          }
        },
        "c5b9ebf12ca74df2b900cf543ee44c2e": {
          "model_module": "@jupyter-widgets/controls",
          "model_name": "FloatProgressModel",
          "state": {
            "_view_name": "ProgressView",
            "style": "IPY_MODEL_e1e554cbe2ef447895c7621d097774f3",
            "_dom_classes": [],
            "description": "100%",
            "_model_name": "FloatProgressModel",
            "bar_style": "success",
            "max": 469,
            "_view_module": "@jupyter-widgets/controls",
            "_model_module_version": "1.5.0",
            "value": 469,
            "_view_count": null,
            "_view_module_version": "1.5.0",
            "orientation": "horizontal",
            "min": 0,
            "description_tooltip": null,
            "_model_module": "@jupyter-widgets/controls",
            "layout": "IPY_MODEL_7d4b0eb58e1e432ba4a8214712a2cb49"
          }
        },
        "29d199499795474f8323bbd455d53b58": {
          "model_module": "@jupyter-widgets/controls",
          "model_name": "HTMLModel",
          "state": {
            "_view_name": "HTMLView",
            "style": "IPY_MODEL_2acf4c1cb12048a695b2376cba2344a8",
            "_dom_classes": [],
            "description": "",
            "_model_name": "HTMLModel",
            "placeholder": "​",
            "_view_module": "@jupyter-widgets/controls",
            "_model_module_version": "1.5.0",
            "value": " 469/469 [01:58&lt;00:00,  3.95it/s]",
            "_view_count": null,
            "_view_module_version": "1.5.0",
            "description_tooltip": null,
            "_model_module": "@jupyter-widgets/controls",
            "layout": "IPY_MODEL_c183c89bd3c542318c3fbdfa0d8aa26e"
          }
        },
        "e1e554cbe2ef447895c7621d097774f3": {
          "model_module": "@jupyter-widgets/controls",
          "model_name": "ProgressStyleModel",
          "state": {
            "_view_name": "StyleView",
            "_model_name": "ProgressStyleModel",
            "description_width": "initial",
            "_view_module": "@jupyter-widgets/base",
            "_model_module_version": "1.5.0",
            "_view_count": null,
            "_view_module_version": "1.2.0",
            "bar_color": null,
            "_model_module": "@jupyter-widgets/controls"
          }
        },
        "7d4b0eb58e1e432ba4a8214712a2cb49": {
          "model_module": "@jupyter-widgets/base",
          "model_name": "LayoutModel",
          "state": {
            "_view_name": "LayoutView",
            "grid_template_rows": null,
            "right": null,
            "justify_content": null,
            "_view_module": "@jupyter-widgets/base",
            "overflow": null,
            "_model_module_version": "1.2.0",
            "_view_count": null,
            "flex_flow": null,
            "width": null,
            "min_width": null,
            "border": null,
            "align_items": null,
            "bottom": null,
            "_model_module": "@jupyter-widgets/base",
            "top": null,
            "grid_column": null,
            "overflow_y": null,
            "overflow_x": null,
            "grid_auto_flow": null,
            "grid_area": null,
            "grid_template_columns": null,
            "flex": null,
            "_model_name": "LayoutModel",
            "justify_items": null,
            "grid_row": null,
            "max_height": null,
            "align_content": null,
            "visibility": null,
            "align_self": null,
            "height": null,
            "min_height": null,
            "padding": null,
            "grid_auto_rows": null,
            "grid_gap": null,
            "max_width": null,
            "order": null,
            "_view_module_version": "1.2.0",
            "grid_template_areas": null,
            "object_position": null,
            "object_fit": null,
            "grid_auto_columns": null,
            "margin": null,
            "display": null,
            "left": null
          }
        },
        "2acf4c1cb12048a695b2376cba2344a8": {
          "model_module": "@jupyter-widgets/controls",
          "model_name": "DescriptionStyleModel",
          "state": {
            "_view_name": "StyleView",
            "_model_name": "DescriptionStyleModel",
            "description_width": "",
            "_view_module": "@jupyter-widgets/base",
            "_model_module_version": "1.5.0",
            "_view_count": null,
            "_view_module_version": "1.2.0",
            "_model_module": "@jupyter-widgets/controls"
          }
        },
        "c183c89bd3c542318c3fbdfa0d8aa26e": {
          "model_module": "@jupyter-widgets/base",
          "model_name": "LayoutModel",
          "state": {
            "_view_name": "LayoutView",
            "grid_template_rows": null,
            "right": null,
            "justify_content": null,
            "_view_module": "@jupyter-widgets/base",
            "overflow": null,
            "_model_module_version": "1.2.0",
            "_view_count": null,
            "flex_flow": null,
            "width": null,
            "min_width": null,
            "border": null,
            "align_items": null,
            "bottom": null,
            "_model_module": "@jupyter-widgets/base",
            "top": null,
            "grid_column": null,
            "overflow_y": null,
            "overflow_x": null,
            "grid_auto_flow": null,
            "grid_area": null,
            "grid_template_columns": null,
            "flex": null,
            "_model_name": "LayoutModel",
            "justify_items": null,
            "grid_row": null,
            "max_height": null,
            "align_content": null,
            "visibility": null,
            "align_self": null,
            "height": null,
            "min_height": null,
            "padding": null,
            "grid_auto_rows": null,
            "grid_gap": null,
            "max_width": null,
            "order": null,
            "_view_module_version": "1.2.0",
            "grid_template_areas": null,
            "object_position": null,
            "object_fit": null,
            "grid_auto_columns": null,
            "margin": null,
            "display": null,
            "left": null
          }
        },
        "d4fc1da1a7304f06829676ebaef4b94c": {
          "model_module": "@jupyter-widgets/controls",
          "model_name": "HBoxModel",
          "state": {
            "_view_name": "HBoxView",
            "_dom_classes": [],
            "_model_name": "HBoxModel",
            "_view_module": "@jupyter-widgets/controls",
            "_model_module_version": "1.5.0",
            "_view_count": null,
            "_view_module_version": "1.5.0",
            "box_style": "",
            "layout": "IPY_MODEL_ccbb57499b0d47ab84fb6298d1e4f39c",
            "_model_module": "@jupyter-widgets/controls",
            "children": [
              "IPY_MODEL_4c12a4675164476fb74f941fd3f3ed78",
              "IPY_MODEL_a591fd498517414ba8bc55c7bf7cca56"
            ]
          }
        },
        "ccbb57499b0d47ab84fb6298d1e4f39c": {
          "model_module": "@jupyter-widgets/base",
          "model_name": "LayoutModel",
          "state": {
            "_view_name": "LayoutView",
            "grid_template_rows": null,
            "right": null,
            "justify_content": null,
            "_view_module": "@jupyter-widgets/base",
            "overflow": null,
            "_model_module_version": "1.2.0",
            "_view_count": null,
            "flex_flow": null,
            "width": null,
            "min_width": null,
            "border": null,
            "align_items": null,
            "bottom": null,
            "_model_module": "@jupyter-widgets/base",
            "top": null,
            "grid_column": null,
            "overflow_y": null,
            "overflow_x": null,
            "grid_auto_flow": null,
            "grid_area": null,
            "grid_template_columns": null,
            "flex": null,
            "_model_name": "LayoutModel",
            "justify_items": null,
            "grid_row": null,
            "max_height": null,
            "align_content": null,
            "visibility": null,
            "align_self": null,
            "height": null,
            "min_height": null,
            "padding": null,
            "grid_auto_rows": null,
            "grid_gap": null,
            "max_width": null,
            "order": null,
            "_view_module_version": "1.2.0",
            "grid_template_areas": null,
            "object_position": null,
            "object_fit": null,
            "grid_auto_columns": null,
            "margin": null,
            "display": null,
            "left": null
          }
        },
        "4c12a4675164476fb74f941fd3f3ed78": {
          "model_module": "@jupyter-widgets/controls",
          "model_name": "FloatProgressModel",
          "state": {
            "_view_name": "ProgressView",
            "style": "IPY_MODEL_f0c6e23871464767a80d0de3c6fe144b",
            "_dom_classes": [],
            "description": "100%",
            "_model_name": "FloatProgressModel",
            "bar_style": "success",
            "max": 79,
            "_view_module": "@jupyter-widgets/controls",
            "_model_module_version": "1.5.0",
            "value": 79,
            "_view_count": null,
            "_view_module_version": "1.5.0",
            "orientation": "horizontal",
            "min": 0,
            "description_tooltip": null,
            "_model_module": "@jupyter-widgets/controls",
            "layout": "IPY_MODEL_5ff772442ab340d8b976ef8c787293ae"
          }
        },
        "a591fd498517414ba8bc55c7bf7cca56": {
          "model_module": "@jupyter-widgets/controls",
          "model_name": "HTMLModel",
          "state": {
            "_view_name": "HTMLView",
            "style": "IPY_MODEL_cdbe9174333940f0a1b80da866369a97",
            "_dom_classes": [],
            "description": "",
            "_model_name": "HTMLModel",
            "placeholder": "​",
            "_view_module": "@jupyter-widgets/controls",
            "_model_module_version": "1.5.0",
            "value": " 79/79 [00:19&lt;00:00,  4.05it/s]",
            "_view_count": null,
            "_view_module_version": "1.5.0",
            "description_tooltip": null,
            "_model_module": "@jupyter-widgets/controls",
            "layout": "IPY_MODEL_fa1afb792f1943fc9b6fabf77912df5d"
          }
        },
        "f0c6e23871464767a80d0de3c6fe144b": {
          "model_module": "@jupyter-widgets/controls",
          "model_name": "ProgressStyleModel",
          "state": {
            "_view_name": "StyleView",
            "_model_name": "ProgressStyleModel",
            "description_width": "initial",
            "_view_module": "@jupyter-widgets/base",
            "_model_module_version": "1.5.0",
            "_view_count": null,
            "_view_module_version": "1.2.0",
            "bar_color": null,
            "_model_module": "@jupyter-widgets/controls"
          }
        },
        "5ff772442ab340d8b976ef8c787293ae": {
          "model_module": "@jupyter-widgets/base",
          "model_name": "LayoutModel",
          "state": {
            "_view_name": "LayoutView",
            "grid_template_rows": null,
            "right": null,
            "justify_content": null,
            "_view_module": "@jupyter-widgets/base",
            "overflow": null,
            "_model_module_version": "1.2.0",
            "_view_count": null,
            "flex_flow": null,
            "width": null,
            "min_width": null,
            "border": null,
            "align_items": null,
            "bottom": null,
            "_model_module": "@jupyter-widgets/base",
            "top": null,
            "grid_column": null,
            "overflow_y": null,
            "overflow_x": null,
            "grid_auto_flow": null,
            "grid_area": null,
            "grid_template_columns": null,
            "flex": null,
            "_model_name": "LayoutModel",
            "justify_items": null,
            "grid_row": null,
            "max_height": null,
            "align_content": null,
            "visibility": null,
            "align_self": null,
            "height": null,
            "min_height": null,
            "padding": null,
            "grid_auto_rows": null,
            "grid_gap": null,
            "max_width": null,
            "order": null,
            "_view_module_version": "1.2.0",
            "grid_template_areas": null,
            "object_position": null,
            "object_fit": null,
            "grid_auto_columns": null,
            "margin": null,
            "display": null,
            "left": null
          }
        },
        "cdbe9174333940f0a1b80da866369a97": {
          "model_module": "@jupyter-widgets/controls",
          "model_name": "DescriptionStyleModel",
          "state": {
            "_view_name": "StyleView",
            "_model_name": "DescriptionStyleModel",
            "description_width": "",
            "_view_module": "@jupyter-widgets/base",
            "_model_module_version": "1.5.0",
            "_view_count": null,
            "_view_module_version": "1.2.0",
            "_model_module": "@jupyter-widgets/controls"
          }
        },
        "fa1afb792f1943fc9b6fabf77912df5d": {
          "model_module": "@jupyter-widgets/base",
          "model_name": "LayoutModel",
          "state": {
            "_view_name": "LayoutView",
            "grid_template_rows": null,
            "right": null,
            "justify_content": null,
            "_view_module": "@jupyter-widgets/base",
            "overflow": null,
            "_model_module_version": "1.2.0",
            "_view_count": null,
            "flex_flow": null,
            "width": null,
            "min_width": null,
            "border": null,
            "align_items": null,
            "bottom": null,
            "_model_module": "@jupyter-widgets/base",
            "top": null,
            "grid_column": null,
            "overflow_y": null,
            "overflow_x": null,
            "grid_auto_flow": null,
            "grid_area": null,
            "grid_template_columns": null,
            "flex": null,
            "_model_name": "LayoutModel",
            "justify_items": null,
            "grid_row": null,
            "max_height": null,
            "align_content": null,
            "visibility": null,
            "align_self": null,
            "height": null,
            "min_height": null,
            "padding": null,
            "grid_auto_rows": null,
            "grid_gap": null,
            "max_width": null,
            "order": null,
            "_view_module_version": "1.2.0",
            "grid_template_areas": null,
            "object_position": null,
            "object_fit": null,
            "grid_auto_columns": null,
            "margin": null,
            "display": null,
            "left": null
          }
        }
      }
    }
  },
  "cells": [
    {
      "cell_type": "code",
      "metadata": {
        "id": "ah0RmrcWaWv5"
      },
      "source": [
        "import torch\n",
        "import torch.nn as nn\n",
        "import torch.nn.functional as F\n",
        "import torch.optim as optim\n",
        "import torchvision\n",
        "import torchvision.transforms as transforms\n",
        "from torchvision.models import resnet18\n",
        "from torch.utils.data import Dataset, DataLoader, Subset\n",
        "\n",
        "import numpy as np\n",
        "import os\n",
        "import gc\n",
        "import copy\n",
        "import time as tm\n",
        "\n",
        "from tqdm.autonotebook import tqdm\n",
        "from itertools import chain\n",
        "import matplotlib.pyplot as plt\n",
        "\n",
        "working_dir = os.getcwd()\n",
        "print(os.listdir(working_dir))\n",
        "print(os.getcwd())\n",
        "\n",
        "from rot_pred_helper import LRDOCCRotNet18, K9_OCSVM"
      ],
      "execution_count": null,
      "outputs": []
    },
    {
      "cell_type": "code",
      "metadata": {
        "id": "tYYZUCqaaYeG"
      },
      "source": [
        "# Create transformations and dataset\n",
        "normalize_v2 = transforms.Normalize((0.485, 0.456, 0.406), (0.229, 0.224, 0.225))\n",
        "\n",
        "transform = torchvision.transforms.Compose([torchvision.transforms.Resize(256),\n",
        "                        torchvision.transforms.CenterCrop(224),\n",
        "                        torchvision.transforms.ToTensor()])\n",
        "\n",
        "f_mnist_data = torchvision.datasets.FashionMNIST(\".\", train=True, download=True, transform=transform)\n",
        "f_mnist_data_test = torchvision.datasets.FashionMNIST(\".\", train=False, download=True, transform=transform)"
      ],
      "execution_count": null,
      "outputs": []
    },
    {
      "cell_type": "code",
      "metadata": {
        "id": "3TteATo8aYl5"
      },
      "source": [
        "DEVICE=\"cuda\"\n",
        "HEAD_DIMS = 512\n",
        "# Load base network and modify to change outputs\n",
        "resnet18_rot_pred_model = resnet18()\n",
        "resnet18_rot_pred_model.avgpool = nn.AdaptiveAvgPool2d((1,1))\n",
        "resnet18_rot_pred_model.fc = nn.Linear(HEAD_DIMS, HEAD_DIMS)"
      ],
      "execution_count": null,
      "outputs": []
    },
    {
      "cell_type": "code",
      "metadata": {
        "id": "3ky2rJE1aYp6"
      },
      "source": [
        "weights_file = os.path.join(working_dir,'rot_net_200e.pth')\n",
        "weights = torch.load(weights_file)\n",
        "\n",
        "model = LRDOCCRotNet18(resnet18_rot_pred_model)\n",
        "model.load_state_dict(weights)\n",
        "model.eval()\n",
        "\n",
        "# Initialise feature extractor model, set to eval mode and send to device\n",
        "device = \"cuda:0\"\n",
        "model.projection_head = model.projection_head[:5]\n",
        "feature_extractor_model = model.to(device)"
      ],
      "execution_count": null,
      "outputs": []
    },
    {
      "cell_type": "code",
      "metadata": {
        "id": "p7NiNIeYhsru"
      },
      "source": [
        "# Create DataLoaders\n",
        "batch_sz = 128\n",
        "train_loader = DataLoader(f_mnist_data, batch_size=batch_sz)\n",
        "test_loader = DataLoader(f_mnist_data_test, batch_size=batch_sz, shuffle=True)"
      ],
      "execution_count": null,
      "outputs": []
    },
    {
      "cell_type": "markdown",
      "metadata": {
        "id": "EatOZugrkNPO"
      },
      "source": [
        "## Generate Representations"
      ]
    },
    {
      "cell_type": "code",
      "metadata": {
        "id": "yktCRWMakJUc"
      },
      "source": [
        "def extract_representations(extractor_model, data_sz,  dataloader, batch_size, interleave3d=False, vec_size=2048):\n",
        "    \"\"\"\n",
        "      Extract representations based on the process described on LRDOCC paper.\n",
        "    \"\"\"\n",
        "\n",
        "    SINCE = tm.time()\n",
        "\n",
        "    feature_tensor = np.zeros((data_sz, vec_size))\n",
        "    label_tensor = np.zeros((data_sz,1))\n",
        "    \n",
        "    for i, data in enumerate(tqdm(dataloader,0)):\n",
        "        images, labels = data\n",
        "        if interleave3d==True:\n",
        "            images = images.repeat_interleave(3, dim=1)\n",
        "        images = normalize_v2(images)\n",
        "        images = images.cuda()\n",
        "        \n",
        "        temp_out_tensor = extractor_model(images)\n",
        "\n",
        "        temp_out_tensor = temp_out_tensor.detach().cpu().numpy()\n",
        "        feature_tensor[i*batch_size:i*batch_size + batch_size,:] = temp_out_tensor\n",
        "\n",
        "        temp_out_label = np.expand_dims(labels.numpy(),1)\n",
        "        label_tensor[i*batch_size:i*batch_size + batch_size,:] = temp_out_label\n",
        "\n",
        "        gc.collect()\n",
        "    ELAPSED = tm.time() - SINCE\n",
        "    print('Feature extraction complete in {:.0f}m {:.0f}s'.format(ELAPSED // 60, ELAPSED % 60))\n",
        "\n",
        "    return feature_tensor, label_tensor"
      ],
      "execution_count": null,
      "outputs": []
    },
    {
      "cell_type": "code",
      "metadata": {
        "colab": {
          "base_uri": "https://localhost:8080/",
          "height": 86,
          "referenced_widgets": [
            "be77eef09ae842f09f9feaab996456ab",
            "0b3e52861aca4b1985f777a174fff2fc",
            "c5b9ebf12ca74df2b900cf543ee44c2e",
            "29d199499795474f8323bbd455d53b58",
            "e1e554cbe2ef447895c7621d097774f3",
            "7d4b0eb58e1e432ba4a8214712a2cb49",
            "2acf4c1cb12048a695b2376cba2344a8",
            "c183c89bd3c542318c3fbdfa0d8aa26e"
          ]
        },
        "id": "ZLZky_CtkAAQ",
        "outputId": "496632b7-fd21-49f2-cd68-ee1a8b5f0307"
      },
      "source": [
        "# Feature extraction for train_set\n",
        "rot_pred_fmnist_train, rot_pred_fmnist_train_lbl = extract_representations(feature_extractor_model, len(f_mnist_data),train_loader, batch_sz, True, 512)\n",
        "\n",
        "# Feature extraction for test_set\n",
        "rot_pred_fmnist_test, rot_pred_fmnist_test_lbl = extract_representations(feature_extractor_model, len(f_mnist_data_test),test_loader, batch_sz, True, 512)"
      ],
      "execution_count": null,
      "outputs": []
    },
    {
      "source": [
        "### Save representations"
      ],
      "cell_type": "markdown",
      "metadata": {}
    },
    {
      "cell_type": "code",
      "metadata": {
        "id": "2_n0a_Zak4CF"
      },
      "source": [
        "rotclr_dataset_path_train = working_dir + \"/rot_net_repr_fmnist_train.npy\"\n",
        "rotclr_labels_path_train_lbl = working_dir + \"/rot_net_labels_fmnist_train_lbl.npy\"\n",
        "rotclr_dataset_path_test = working_dir + \"/rot_net_repr_fmnist_test.npy\"\n",
        "rotclr_labels_path_test_lbl = working_dir + \"/rot_net_labels_fmnist_test_lbl.npy\"\n",
        "\n",
        "np.save(rotclr_dataset_path_train, rot_pred_fmnist_train)\n",
        "np.save(rotclr_labels_path_train_lbl, rot_pred_fmnist_train_lbl)\n",
        "\n",
        "np.save(rotclr_dataset_path_test, rot_pred_fmnist_test)\n",
        "np.save(rotclr_labels_path_test_lbl, rot_pred_fmnist_test_lbl)"
      ],
      "execution_count": null,
      "outputs": []
    },
    {
      "source": [
        "### Run OC-SVM on the generated representations"
      ],
      "cell_type": "markdown",
      "metadata": {}
    },
    {
      "cell_type": "code",
      "metadata": {
        "colab": {
          "base_uri": "https://localhost:8080/"
        },
        "id": "bxSm237raKq_",
        "outputId": "2a58f2e2-812d-4333-ee2c-00eeb2985dad"
      },
      "source": [
        "# Run OC-SVM - rot_pred_fmnist_train, rot_pred_fmnist_train_lbl\n",
        "# rot_pred_fmnist_test, rot_pred_fmnist_test_lbl \n",
        "simclr_aucs = K9_OCSVM(rot_pred_fmnist_train, np.squeeze(rot_pred_fmnist_train_lbl), rot_pred_fmnist_test, np.squeeze(rot_pred_fmnist_test_lbl), kernel_type=\"rbf\")"
      ],
      "execution_count": null,
      "outputs": []
    }
  ]
}